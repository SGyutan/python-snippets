{
 "cells": [
  {
   "attachments": {},
   "cell_type": "markdown",
   "metadata": {},
   "source": [
    "#### 複数のplotをする場合 plt, axの二つの方法\n",
    "\n",
    "- plt～を使う場合\n",
    "  \n",
    "  [Matplotlib plt.subplotの使い方徹底図解｜一つの図に複数グラフを描く](https://www.yutaka-note.com/entry/2020/01/02/232925)\n",
    "  \n",
    "- axを使う場合\n",
    "  \n",
    "  [Matplotlib plt.figure()を使う理由｜FigureとAxesの関係を把握しよう](https://www.yutaka-note.com/entry/matplotlib_figure)\n",
    "  \n",
    "  [Matplotlib plt.subplots()の使い方｜FigureとAxesを同時生成！](https://www.yutaka-note.com/entry/matplotlib_subplots)"
   ]
  },
  {
   "cell_type": "code",
   "execution_count": null,
   "metadata": {},
   "outputs": [],
   "source": [
    "import matplotlib.pyplot as plt\n",
    "import numpy as np\n",
    "\n",
    "# plt～で行う場合(Jypyterでちょっとした表示を行うときに便利)\n",
    "# [Matplotlib plt.subplotの使い方徹底図解｜一つの図に複数グラフを描く](https://www.yutaka-note.com/entry/2020/01/02/232925)\n",
    "def pltXX(x1,y1,x2,y2,title1='t1',title2='t2'):\n",
    "    \n",
    "    plt.figure(figsize=(12, 6))\n",
    "    \n",
    "    plt.subplot(1,2,1)\n",
    "    plt.title(title1)\n",
    "    plt.plot(x1,y1)\n",
    "    plt.grid()\n",
    "\n",
    "    plt.subplot(1,2,2)\n",
    "    plt.title(title2)\n",
    "    plt.plot(x2,y2)\n",
    "    plt.grid()\n",
    "    \n",
    "    plt.show()\n",
    "\n",
    "# axを使う場合\n",
    "# [Matplotlib plt.figure()を使う理由｜FigureとAxesの関係を把握しよう](https://www.yutaka-note.com/entry/matplotlib_figure)\n",
    "# [Matplotlib plt.subplots()の使い方｜FigureとAxesを同時生成！](https://www.yutaka-note.com/entry/matplotlib_subplots)\n",
    "\n",
    "def axxx(x1,y1,x2,y2,title1='t1',title2='t2'):\n",
    "\n",
    "    fig = plt.figure(figsize = (10,6))\n",
    "\n",
    "    #グラフを描画するsubplot領域を作成。\n",
    "    ax1 = fig.add_subplot(1, 2, 1)\n",
    "    ax2 = fig.add_subplot(1, 2, 2)\n",
    "\n",
    "    #各subplot領域にデータを渡す\n",
    "    ax1.plot(x1, y1)\n",
    "    ax2.plot(x2, y2)\n",
    "    \n",
    "    ax1.set_title(title1)\n",
    "    ax2.set_title(title2)\n",
    "    \n",
    "    ax1.grid(True)\n",
    "    ax2.grid(True)\n",
    "    ax1.ticklabel_format(style=\"sci\", axis=\"x\",scilimits=(0,0))\n",
    "    ax2.ticklabel_format(style=\"sci\", axis=\"x\",scilimits=(0,0))\n",
    "    \n",
    "    plt.tight_layout()\n",
    "    \n",
    "    plt.show()"
   ]
  }
 ],
 "metadata": {
  "kernelspec": {
   "display_name": "base",
   "language": "python",
   "name": "python3"
  },
  "language_info": {
   "name": "python",
   "version": "3.9.15 | packaged by conda-forge | (main, Nov 22 2022, 08:39:05) [MSC v.1929 64 bit (AMD64)]"
  },
  "orig_nbformat": 4,
  "vscode": {
   "interpreter": {
    "hash": "453114fbb2848fea01bd7b7a3c1da78a233bebd20a4a5077470cc8447614a76c"
   }
  }
 },
 "nbformat": 4,
 "nbformat_minor": 2
}
